{
  "cells": [
    {
      "cell_type": "markdown",
      "metadata": {
        "id": "view-in-github",
        "colab_type": "text"
      },
      "source": [
        "<a href=\"https://colab.research.google.com/github/KeyaPoderycki/DV_at_IU_Fall_2025/blob/main/PythonFundamentals_CO2_Emissions.ipynb\" target=\"_parent\"><img src=\"https://colab.research.google.com/assets/colab-badge.svg\" alt=\"Open In Colab\"/></a>"
      ]
    },
    {
      "cell_type": "markdown",
      "metadata": {
        "id": "hKUbDaPK53st"
      },
      "source": [
        "# Python Fundamentals"
      ],
      "id": "hKUbDaPK53st"
    },
    {
      "cell_type": "code",
      "execution_count": null,
      "metadata": {
        "colab": {
          "base_uri": "https://localhost:8080/",
          "height": 70
        },
        "id": "B0zv1c1x53sw",
        "outputId": "a3d31a89-38c3-46c4-8fd4-a967e4c33caf"
      },
      "outputs": [
        {
          "output_type": "stream",
          "name": "stdout",
          "text": [
            "Nikhil\n",
            "21\n"
          ]
        },
        {
          "output_type": "execute_result",
          "data": {
            "text/plain": [
              "'West Lafayette'"
            ],
            "application/vnd.google.colaboratory.intrinsic+json": {
              "type": "string"
            }
          },
          "metadata": {},
          "execution_count": 4
        }
      ],
      "source": [
        "# --- Variables ---\n",
        "my_name = \"Nikhil\"      # A string (text)\n",
        "my_age = 21             # An integer (whole number)\n",
        "\n",
        "print(my_name)\n",
        "print(my_age)\n",
        "my_age\n",
        "\n",
        "# 👉 Your Turn:\n",
        "# Make a variable called city and store the name of the city you are from.\n",
        "# Then print it.\n",
        "city = \"West Lafayette\"\n",
        "city\n"
      ],
      "id": "B0zv1c1x53sw"
    },
    {
      "cell_type": "code",
      "execution_count": null,
      "metadata": {
        "colab": {
          "base_uri": "https://localhost:8080/"
        },
        "id": "VjyAwM5O53sy",
        "outputId": "def88e9f-c641-49cd-df40-8b014567056d"
      },
      "outputs": [
        {
          "output_type": "stream",
          "name": "stdout",
          "text": [
            "5.9\n",
            "True\n",
            "2007\n"
          ]
        }
      ],
      "source": [
        "# --- Data Types ---\n",
        "height = 5.9            # A float (decimal number)\n",
        "is_student = True       # A boolean (True/False)\n",
        "\n",
        "print(height)\n",
        "print(is_student)\n",
        "\n",
        "# 👉 Your Turn:\n",
        "# Make an integer variable for your birth year and print it.\n",
        "birth_year = 2007\n",
        "print(birth_year)\n"
      ],
      "id": "VjyAwM5O53sy"
    },
    {
      "cell_type": "code",
      "execution_count": null,
      "metadata": {
        "colab": {
          "base_uri": "https://localhost:8080/"
        },
        "id": "TYwBrsp853sy",
        "outputId": "16dac4ef-25a9-4c37-d3f2-dc765374e92b"
      },
      "outputs": [
        {
          "output_type": "stream",
          "name": "stdout",
          "text": [
            "['red', 'green', 'blue']\n",
            "red\n",
            "blue\n"
          ]
        }
      ],
      "source": [
        "# --- Lists ---\n",
        "colors = [\"red\", \"green\", \"blue\"]\n",
        "print(colors)\n",
        "print(colors[0])\n",
        "\n",
        "# 👉 Your Turn:\n",
        "# Make a list of 3 colors and print the third color.\n",
        "my_colors = [\"yellow\", \"orange\", \"blue\"]\n",
        "print(my_colors[2])\n",
        "\n",
        "#hi\n"
      ],
      "id": "TYwBrsp853sy"
    },
    {
      "cell_type": "code",
      "execution_count": null,
      "metadata": {
        "colab": {
          "base_uri": "https://localhost:8080/"
        },
        "id": "PfpITkkF53sz",
        "outputId": "3cf74ed0-f24c-43bf-9605-e338f1281580"
      },
      "outputs": [
        {
          "output_type": "stream",
          "name": "stdout",
          "text": [
            "{'France': 'Paris', 'India': 'New Delhi', 'Japan': 'Tokyo'}\n",
            "Paris\n",
            "EC and Public Policy\n"
          ]
        }
      ],
      "source": [
        "# --- Dictionaries ---\n",
        "capitals = {\n",
        "    \"France\": \"Paris\",\n",
        "    \"India\": \"New Delhi\",\n",
        "    \"Japan\": \"Tokyo\"\n",
        "}\n",
        "print(capitals)\n",
        "print(capitals[\"France\"])\n",
        "\n",
        "# 👉 Your Turn:\n",
        "# Make a dictionary with keys \"name\", \"age\", and \"major\".\n",
        "# Fill in your own information and print your major.\n",
        "\n",
        "new_capitals = {\n",
        "    \"name\": \"Keya\",\n",
        "    \"age\": \"18\",\n",
        "    \"major\": \"EC and Public Policy\"\n",
        "}\n",
        "print(new_capitals[\"major\"])\n"
      ],
      "id": "PfpITkkF53sz"
    },
    {
      "cell_type": "code",
      "execution_count": null,
      "metadata": {
        "id": "0Ul1py3N53s0"
      },
      "outputs": [],
      "source": [
        "# --- Comments ---\n",
        "# This is a comment, Python ignores it\n",
        "\n",
        "# 👉 Your Turn:\n",
        "# Write a comment below that says what your favorite food is\n"
      ],
      "id": "0Ul1py3N53s0"
    },
    {
      "cell_type": "code",
      "execution_count": null,
      "metadata": {
        "id": "mdTrwgIw53s1"
      },
      "outputs": [],
      "source": [
        "# --- Functions ---\n",
        "def greet(person):\n",
        "    print(\"Hello\", person)\n",
        "\n",
        "greet(\"World\")\n",
        "\n",
        "# 👉 Your Turn:\n",
        "# Write a function called say_hi(y) that prints \"Hi\" and y.\n",
        "# Test it by calling say_hi(\"Your Name\").\n"
      ],
      "id": "mdTrwgIw53s1"
    },
    {
      "cell_type": "code",
      "execution_count": null,
      "metadata": {
        "id": "591345NQ53s1"
      },
      "outputs": [],
      "source": [
        "# --- If Statements ---\n",
        "x = 10\n",
        "if x > 5:\n",
        "    print(\"x is greater than 5\")\n",
        "\n",
        "# 👉 Your Turn:\n",
        "# Write an if statement that prints \"x is 9\" if x is 9.\n",
        "\n"
      ],
      "id": "591345NQ53s1"
    },
    {
      "cell_type": "code",
      "execution_count": null,
      "metadata": {
        "id": "Tte1mkSq53s2"
      },
      "outputs": [],
      "source": [
        "# --- Conditions + Connectives ---\n",
        "day = \"Saturday\"\n",
        "day_2 = \"Sunday\"\n",
        "if day == \"Saturday\" and day_2 == \"Sunday\":\n",
        "    print(\"It is the weekend!\")\n",
        "\n",
        "# 👉 Your Turn:\n",
        "# Write an if statement that prints \"Weekday\"\n",
        "# if practice_date is not Saturday or Sunday.\n",
        "practice_date = \"\"\n"
      ],
      "id": "Tte1mkSq53s2"
    },
    {
      "cell_type": "code",
      "execution_count": null,
      "metadata": {
        "id": "wwj1f_xD53s3"
      },
      "outputs": [],
      "source": [
        "# --- For Loop ---\n",
        "for num in [1, 2, 3]:\n",
        "    print(\"Number:\", num)\n",
        "\n",
        "# 👉 Your Turn:\n",
        "# Write a for loop that prints each letter in the word \"Python\"\n"
      ],
      "id": "wwj1f_xD53s3"
    },
    {
      "cell_type": "markdown",
      "metadata": {
        "id": "BqGPY4ka53s3"
      },
      "source": [
        "# Global CO₂ Emissions Animation (Python + Plotly)"
      ],
      "id": "BqGPY4ka53s3"
    },
    {
      "cell_type": "code",
      "execution_count": null,
      "metadata": {
        "id": "s_7Hi8BV53s3"
      },
      "outputs": [],
      "source": [
        "import pandas as pd\n",
        "import plotly.express as px\n",
        "\n",
        "years = [1960, 1970, 1980, 1990, 2000, 2010, 2020, 2023]\n",
        "\n",
        "countries = [\n",
        "    \"United States\", \"China\", \"India\", \"Russia\", \"Japan\",\n",
        "    \"Germany\", \"Brazil\", \"Canada\", \"Australia\", \"South Africa\", \"United Kingdom\", \"France\"\n",
        "]\n",
        "\n",
        "base_trends = {\n",
        "    \"United States\": [2950, 4300, 4900, 5100, 5900, 5600, 4800, 4900],\n",
        "    \"China\":         [ 550,  900, 1800, 2400, 3300, 7800,10100,10700],\n",
        "    \"India\":         [ 130,  180,  320,  580,  970, 1900, 2600, 2700],\n",
        "    \"Russia\":        [ 900, 1300, 2100, 2400, 1600, 1700, 1600, 1700],\n",
        "    \"Japan\":         [ 270,  540, 1100, 1150, 1250, 1200, 1100, 1100],\n",
        "    \"Germany\":       [ 250,  350,  470,  980,  830,  820,  650,  630],\n",
        "    \"Brazil\":        [ 100,  140,  230,  300,  380,  460,  500,  520],\n",
        "    \"Canada\":        [ 200,  310,  420,  460,  590,  560,  540,  550],\n",
        "    \"Australia\":     [  90,  150,  240,  270,  360,  410,  390,  400],\n",
        "    \"South Africa\":  [  80,  140,  180,  300,  340,  390,  440,  430],\n",
        "    \"United Kingdom\":[ 600,  650,  710,  600,  550,  500,  390,  380],\n",
        "    \"France\":        [ 400,  450,  480,  410,  390,  380,  320,  310],\n",
        "}\n",
        "\n",
        "rows = []\n",
        "for country, values in base_trends.items():\n",
        "    for y, v in zip(years, values):\n",
        "        rows.append({\"Country\": country, \"Year\": y, \"CO2_Mt\": v})\n",
        "\n",
        "df = pd.DataFrame(rows)\n"
      ],
      "id": "s_7Hi8BV53s3"
    },
    {
      "cell_type": "code",
      "execution_count": null,
      "metadata": {
        "colab": {
          "base_uri": "https://localhost:8080/",
          "height": 542
        },
        "id": "SMZAb6yx53s4",
        "outputId": "47b75343-fe87-43b2-b6fd-28717e7eabcd"
      },
      "outputs": [
        {
          "output_type": "display_data",
          "data": {
            "text/html": [
              "<html>\n",
              "<head><meta charset=\"utf-8\" /></head>\n",
              "<body>\n",
              "    <div>            <script src=\"https://cdnjs.cloudflare.com/ajax/libs/mathjax/2.7.5/MathJax.js?config=TeX-AMS-MML_SVG\"></script><script type=\"text/javascript\">if (window.MathJax && window.MathJax.Hub && window.MathJax.Hub.Config) {window.MathJax.Hub.Config({SVG: {font: \"STIX-Web\"}});}</script>                <script type=\"text/javascript\">window.PlotlyConfig = {MathJaxConfig: 'local'};</script>\n",
              "        <script charset=\"utf-8\" src=\"https://cdn.plot.ly/plotly-2.35.2.min.js\"></script>                <div id=\"61ba7098-5663-45e5-ae3d-b057e1baa879\" class=\"plotly-graph-div\" style=\"height:525px; width:100%;\"></div>            <script type=\"text/javascript\">                                    window.PLOTLYENV=window.PLOTLYENV || {};                                    if (document.getElementById(\"61ba7098-5663-45e5-ae3d-b057e1baa879\")) {                    Plotly.newPlot(                        \"61ba7098-5663-45e5-ae3d-b057e1baa879\",                        [{\"coloraxis\":\"coloraxis\",\"geo\":\"geo\",\"hovertemplate\":\"\\u003cb\\u003e%{hovertext}\\u003c\\u002fb\\u003e\\u003cbr\\u003e\\u003cbr\\u003eYear=1960\\u003cbr\\u003eCountry=%{location}\\u003cbr\\u003eCO₂ (Mt)=%{z}\\u003cextra\\u003e\\u003c\\u002fextra\\u003e\",\"hovertext\":[\"United States\",\"China\",\"India\",\"Russia\",\"Japan\",\"Germany\",\"Brazil\",\"Canada\",\"Australia\",\"South Africa\",\"United Kingdom\",\"France\"],\"locationmode\":\"country names\",\"locations\":[\"United States\",\"China\",\"India\",\"Russia\",\"Japan\",\"Germany\",\"Brazil\",\"Canada\",\"Australia\",\"South Africa\",\"United Kingdom\",\"France\"],\"name\":\"\",\"z\":[2950,550,130,900,270,250,100,200,90,80,600,400],\"type\":\"choropleth\"}],                        {\"template\":{\"data\":{\"histogram2dcontour\":[{\"type\":\"histogram2dcontour\",\"colorbar\":{\"outlinewidth\":0,\"ticks\":\"\"},\"colorscale\":[[0.0,\"#0d0887\"],[0.1111111111111111,\"#46039f\"],[0.2222222222222222,\"#7201a8\"],[0.3333333333333333,\"#9c179e\"],[0.4444444444444444,\"#bd3786\"],[0.5555555555555556,\"#d8576b\"],[0.6666666666666666,\"#ed7953\"],[0.7777777777777778,\"#fb9f3a\"],[0.8888888888888888,\"#fdca26\"],[1.0,\"#f0f921\"]]}],\"choropleth\":[{\"type\":\"choropleth\",\"colorbar\":{\"outlinewidth\":0,\"ticks\":\"\"}}],\"histogram2d\":[{\"type\":\"histogram2d\",\"colorbar\":{\"outlinewidth\":0,\"ticks\":\"\"},\"colorscale\":[[0.0,\"#0d0887\"],[0.1111111111111111,\"#46039f\"],[0.2222222222222222,\"#7201a8\"],[0.3333333333333333,\"#9c179e\"],[0.4444444444444444,\"#bd3786\"],[0.5555555555555556,\"#d8576b\"],[0.6666666666666666,\"#ed7953\"],[0.7777777777777778,\"#fb9f3a\"],[0.8888888888888888,\"#fdca26\"],[1.0,\"#f0f921\"]]}],\"heatmap\":[{\"type\":\"heatmap\",\"colorbar\":{\"outlinewidth\":0,\"ticks\":\"\"},\"colorscale\":[[0.0,\"#0d0887\"],[0.1111111111111111,\"#46039f\"],[0.2222222222222222,\"#7201a8\"],[0.3333333333333333,\"#9c179e\"],[0.4444444444444444,\"#bd3786\"],[0.5555555555555556,\"#d8576b\"],[0.6666666666666666,\"#ed7953\"],[0.7777777777777778,\"#fb9f3a\"],[0.8888888888888888,\"#fdca26\"],[1.0,\"#f0f921\"]]}],\"heatmapgl\":[{\"type\":\"heatmapgl\",\"colorbar\":{\"outlinewidth\":0,\"ticks\":\"\"},\"colorscale\":[[0.0,\"#0d0887\"],[0.1111111111111111,\"#46039f\"],[0.2222222222222222,\"#7201a8\"],[0.3333333333333333,\"#9c179e\"],[0.4444444444444444,\"#bd3786\"],[0.5555555555555556,\"#d8576b\"],[0.6666666666666666,\"#ed7953\"],[0.7777777777777778,\"#fb9f3a\"],[0.8888888888888888,\"#fdca26\"],[1.0,\"#f0f921\"]]}],\"contourcarpet\":[{\"type\":\"contourcarpet\",\"colorbar\":{\"outlinewidth\":0,\"ticks\":\"\"}}],\"contour\":[{\"type\":\"contour\",\"colorbar\":{\"outlinewidth\":0,\"ticks\":\"\"},\"colorscale\":[[0.0,\"#0d0887\"],[0.1111111111111111,\"#46039f\"],[0.2222222222222222,\"#7201a8\"],[0.3333333333333333,\"#9c179e\"],[0.4444444444444444,\"#bd3786\"],[0.5555555555555556,\"#d8576b\"],[0.6666666666666666,\"#ed7953\"],[0.7777777777777778,\"#fb9f3a\"],[0.8888888888888888,\"#fdca26\"],[1.0,\"#f0f921\"]]}],\"surface\":[{\"type\":\"surface\",\"colorbar\":{\"outlinewidth\":0,\"ticks\":\"\"},\"colorscale\":[[0.0,\"#0d0887\"],[0.1111111111111111,\"#46039f\"],[0.2222222222222222,\"#7201a8\"],[0.3333333333333333,\"#9c179e\"],[0.4444444444444444,\"#bd3786\"],[0.5555555555555556,\"#d8576b\"],[0.6666666666666666,\"#ed7953\"],[0.7777777777777778,\"#fb9f3a\"],[0.8888888888888888,\"#fdca26\"],[1.0,\"#f0f921\"]]}],\"mesh3d\":[{\"type\":\"mesh3d\",\"colorbar\":{\"outlinewidth\":0,\"ticks\":\"\"}}],\"scatter\":[{\"fillpattern\":{\"fillmode\":\"overlay\",\"size\":10,\"solidity\":0.2},\"type\":\"scatter\"}],\"parcoords\":[{\"type\":\"parcoords\",\"line\":{\"colorbar\":{\"outlinewidth\":0,\"ticks\":\"\"}}}],\"scatterpolargl\":[{\"type\":\"scatterpolargl\",\"marker\":{\"colorbar\":{\"outlinewidth\":0,\"ticks\":\"\"}}}],\"bar\":[{\"error_x\":{\"color\":\"#2a3f5f\"},\"error_y\":{\"color\":\"#2a3f5f\"},\"marker\":{\"line\":{\"color\":\"#E5ECF6\",\"width\":0.5},\"pattern\":{\"fillmode\":\"overlay\",\"size\":10,\"solidity\":0.2}},\"type\":\"bar\"}],\"scattergeo\":[{\"type\":\"scattergeo\",\"marker\":{\"colorbar\":{\"outlinewidth\":0,\"ticks\":\"\"}}}],\"scatterpolar\":[{\"type\":\"scatterpolar\",\"marker\":{\"colorbar\":{\"outlinewidth\":0,\"ticks\":\"\"}}}],\"histogram\":[{\"marker\":{\"pattern\":{\"fillmode\":\"overlay\",\"size\":10,\"solidity\":0.2}},\"type\":\"histogram\"}],\"scattergl\":[{\"type\":\"scattergl\",\"marker\":{\"colorbar\":{\"outlinewidth\":0,\"ticks\":\"\"}}}],\"scatter3d\":[{\"type\":\"scatter3d\",\"line\":{\"colorbar\":{\"outlinewidth\":0,\"ticks\":\"\"}},\"marker\":{\"colorbar\":{\"outlinewidth\":0,\"ticks\":\"\"}}}],\"scattermapbox\":[{\"type\":\"scattermapbox\",\"marker\":{\"colorbar\":{\"outlinewidth\":0,\"ticks\":\"\"}}}],\"scatterternary\":[{\"type\":\"scatterternary\",\"marker\":{\"colorbar\":{\"outlinewidth\":0,\"ticks\":\"\"}}}],\"scattercarpet\":[{\"type\":\"scattercarpet\",\"marker\":{\"colorbar\":{\"outlinewidth\":0,\"ticks\":\"\"}}}],\"carpet\":[{\"aaxis\":{\"endlinecolor\":\"#2a3f5f\",\"gridcolor\":\"white\",\"linecolor\":\"white\",\"minorgridcolor\":\"white\",\"startlinecolor\":\"#2a3f5f\"},\"baxis\":{\"endlinecolor\":\"#2a3f5f\",\"gridcolor\":\"white\",\"linecolor\":\"white\",\"minorgridcolor\":\"white\",\"startlinecolor\":\"#2a3f5f\"},\"type\":\"carpet\"}],\"table\":[{\"cells\":{\"fill\":{\"color\":\"#EBF0F8\"},\"line\":{\"color\":\"white\"}},\"header\":{\"fill\":{\"color\":\"#C8D4E3\"},\"line\":{\"color\":\"white\"}},\"type\":\"table\"}],\"barpolar\":[{\"marker\":{\"line\":{\"color\":\"#E5ECF6\",\"width\":0.5},\"pattern\":{\"fillmode\":\"overlay\",\"size\":10,\"solidity\":0.2}},\"type\":\"barpolar\"}],\"pie\":[{\"automargin\":true,\"type\":\"pie\"}]},\"layout\":{\"autotypenumbers\":\"strict\",\"colorway\":[\"#636efa\",\"#EF553B\",\"#00cc96\",\"#ab63fa\",\"#FFA15A\",\"#19d3f3\",\"#FF6692\",\"#B6E880\",\"#FF97FF\",\"#FECB52\"],\"font\":{\"color\":\"#2a3f5f\"},\"hovermode\":\"closest\",\"hoverlabel\":{\"align\":\"left\"},\"paper_bgcolor\":\"white\",\"plot_bgcolor\":\"#E5ECF6\",\"polar\":{\"bgcolor\":\"#E5ECF6\",\"angularaxis\":{\"gridcolor\":\"white\",\"linecolor\":\"white\",\"ticks\":\"\"},\"radialaxis\":{\"gridcolor\":\"white\",\"linecolor\":\"white\",\"ticks\":\"\"}},\"ternary\":{\"bgcolor\":\"#E5ECF6\",\"aaxis\":{\"gridcolor\":\"white\",\"linecolor\":\"white\",\"ticks\":\"\"},\"baxis\":{\"gridcolor\":\"white\",\"linecolor\":\"white\",\"ticks\":\"\"},\"caxis\":{\"gridcolor\":\"white\",\"linecolor\":\"white\",\"ticks\":\"\"}},\"coloraxis\":{\"colorbar\":{\"outlinewidth\":0,\"ticks\":\"\"}},\"colorscale\":{\"sequential\":[[0.0,\"#0d0887\"],[0.1111111111111111,\"#46039f\"],[0.2222222222222222,\"#7201a8\"],[0.3333333333333333,\"#9c179e\"],[0.4444444444444444,\"#bd3786\"],[0.5555555555555556,\"#d8576b\"],[0.6666666666666666,\"#ed7953\"],[0.7777777777777778,\"#fb9f3a\"],[0.8888888888888888,\"#fdca26\"],[1.0,\"#f0f921\"]],\"sequentialminus\":[[0.0,\"#0d0887\"],[0.1111111111111111,\"#46039f\"],[0.2222222222222222,\"#7201a8\"],[0.3333333333333333,\"#9c179e\"],[0.4444444444444444,\"#bd3786\"],[0.5555555555555556,\"#d8576b\"],[0.6666666666666666,\"#ed7953\"],[0.7777777777777778,\"#fb9f3a\"],[0.8888888888888888,\"#fdca26\"],[1.0,\"#f0f921\"]],\"diverging\":[[0,\"#8e0152\"],[0.1,\"#c51b7d\"],[0.2,\"#de77ae\"],[0.3,\"#f1b6da\"],[0.4,\"#fde0ef\"],[0.5,\"#f7f7f7\"],[0.6,\"#e6f5d0\"],[0.7,\"#b8e186\"],[0.8,\"#7fbc41\"],[0.9,\"#4d9221\"],[1,\"#276419\"]]},\"xaxis\":{\"gridcolor\":\"white\",\"linecolor\":\"white\",\"ticks\":\"\",\"title\":{\"standoff\":15},\"zerolinecolor\":\"white\",\"automargin\":true,\"zerolinewidth\":2},\"yaxis\":{\"gridcolor\":\"white\",\"linecolor\":\"white\",\"ticks\":\"\",\"title\":{\"standoff\":15},\"zerolinecolor\":\"white\",\"automargin\":true,\"zerolinewidth\":2},\"scene\":{\"xaxis\":{\"backgroundcolor\":\"#E5ECF6\",\"gridcolor\":\"white\",\"linecolor\":\"white\",\"showbackground\":true,\"ticks\":\"\",\"zerolinecolor\":\"white\",\"gridwidth\":2},\"yaxis\":{\"backgroundcolor\":\"#E5ECF6\",\"gridcolor\":\"white\",\"linecolor\":\"white\",\"showbackground\":true,\"ticks\":\"\",\"zerolinecolor\":\"white\",\"gridwidth\":2},\"zaxis\":{\"backgroundcolor\":\"#E5ECF6\",\"gridcolor\":\"white\",\"linecolor\":\"white\",\"showbackground\":true,\"ticks\":\"\",\"zerolinecolor\":\"white\",\"gridwidth\":2}},\"shapedefaults\":{\"line\":{\"color\":\"#2a3f5f\"}},\"annotationdefaults\":{\"arrowcolor\":\"#2a3f5f\",\"arrowhead\":0,\"arrowwidth\":1},\"geo\":{\"bgcolor\":\"white\",\"landcolor\":\"#E5ECF6\",\"subunitcolor\":\"white\",\"showland\":true,\"showlakes\":true,\"lakecolor\":\"white\"},\"title\":{\"x\":0.05},\"mapbox\":{\"style\":\"light\"}}},\"geo\":{\"domain\":{\"x\":[0.0,1.0],\"y\":[0.0,1.0]},\"center\":{}},\"coloraxis\":{\"colorbar\":{\"title\":{\"text\":\"CO₂ (Mt)\"}},\"colorscale\":[[0.0,\"rgb(255,245,240)\"],[0.125,\"rgb(254,224,210)\"],[0.25,\"rgb(252,187,161)\"],[0.375,\"rgb(252,146,114)\"],[0.5,\"rgb(251,106,74)\"],[0.625,\"rgb(239,59,44)\"],[0.75,\"rgb(203,24,29)\"],[0.875,\"rgb(165,15,21)\"],[1.0,\"rgb(103,0,13)\"]],\"cmin\":0,\"cmax\":11235.0},\"legend\":{\"tracegroupgap\":0},\"title\":{\"text\":\"Global CO₂ Emissions (Illustrative) — Animated 1960–2023\"},\"updatemenus\":[{\"buttons\":[{\"args\":[null,{\"frame\":{\"duration\":500,\"redraw\":true},\"mode\":\"immediate\",\"fromcurrent\":true,\"transition\":{\"duration\":500,\"easing\":\"linear\"}}],\"label\":\"&#9654;\",\"method\":\"animate\"},{\"args\":[[null],{\"frame\":{\"duration\":0,\"redraw\":true},\"mode\":\"immediate\",\"fromcurrent\":true,\"transition\":{\"duration\":0,\"easing\":\"linear\"}}],\"label\":\"&#9724;\",\"method\":\"animate\"}],\"direction\":\"left\",\"pad\":{\"r\":10,\"t\":70},\"showactive\":false,\"type\":\"buttons\",\"x\":0.1,\"xanchor\":\"right\",\"y\":0,\"yanchor\":\"top\"}],\"sliders\":[{\"active\":0,\"currentvalue\":{\"prefix\":\"Year=\"},\"len\":0.9,\"pad\":{\"b\":10,\"t\":60},\"steps\":[{\"args\":[[\"1960\"],{\"frame\":{\"duration\":0,\"redraw\":true},\"mode\":\"immediate\",\"fromcurrent\":true,\"transition\":{\"duration\":0,\"easing\":\"linear\"}}],\"label\":\"1960\",\"method\":\"animate\"},{\"args\":[[\"1970\"],{\"frame\":{\"duration\":0,\"redraw\":true},\"mode\":\"immediate\",\"fromcurrent\":true,\"transition\":{\"duration\":0,\"easing\":\"linear\"}}],\"label\":\"1970\",\"method\":\"animate\"},{\"args\":[[\"1980\"],{\"frame\":{\"duration\":0,\"redraw\":true},\"mode\":\"immediate\",\"fromcurrent\":true,\"transition\":{\"duration\":0,\"easing\":\"linear\"}}],\"label\":\"1980\",\"method\":\"animate\"},{\"args\":[[\"1990\"],{\"frame\":{\"duration\":0,\"redraw\":true},\"mode\":\"immediate\",\"fromcurrent\":true,\"transition\":{\"duration\":0,\"easing\":\"linear\"}}],\"label\":\"1990\",\"method\":\"animate\"},{\"args\":[[\"2000\"],{\"frame\":{\"duration\":0,\"redraw\":true},\"mode\":\"immediate\",\"fromcurrent\":true,\"transition\":{\"duration\":0,\"easing\":\"linear\"}}],\"label\":\"2000\",\"method\":\"animate\"},{\"args\":[[\"2010\"],{\"frame\":{\"duration\":0,\"redraw\":true},\"mode\":\"immediate\",\"fromcurrent\":true,\"transition\":{\"duration\":0,\"easing\":\"linear\"}}],\"label\":\"2010\",\"method\":\"animate\"},{\"args\":[[\"2020\"],{\"frame\":{\"duration\":0,\"redraw\":true},\"mode\":\"immediate\",\"fromcurrent\":true,\"transition\":{\"duration\":0,\"easing\":\"linear\"}}],\"label\":\"2020\",\"method\":\"animate\"},{\"args\":[[\"2023\"],{\"frame\":{\"duration\":0,\"redraw\":true},\"mode\":\"immediate\",\"fromcurrent\":true,\"transition\":{\"duration\":0,\"easing\":\"linear\"}}],\"label\":\"2023\",\"method\":\"animate\"}],\"x\":0.1,\"xanchor\":\"left\",\"y\":0,\"yanchor\":\"top\"}]},                        {\"responsive\": true}                    ).then(function(){\n",
              "                            Plotly.addFrames('61ba7098-5663-45e5-ae3d-b057e1baa879', [{\"data\":[{\"coloraxis\":\"coloraxis\",\"geo\":\"geo\",\"hovertemplate\":\"\\u003cb\\u003e%{hovertext}\\u003c\\u002fb\\u003e\\u003cbr\\u003e\\u003cbr\\u003eYear=1960\\u003cbr\\u003eCountry=%{location}\\u003cbr\\u003eCO₂ (Mt)=%{z}\\u003cextra\\u003e\\u003c\\u002fextra\\u003e\",\"hovertext\":[\"United States\",\"China\",\"India\",\"Russia\",\"Japan\",\"Germany\",\"Brazil\",\"Canada\",\"Australia\",\"South Africa\",\"United Kingdom\",\"France\"],\"locationmode\":\"country names\",\"locations\":[\"United States\",\"China\",\"India\",\"Russia\",\"Japan\",\"Germany\",\"Brazil\",\"Canada\",\"Australia\",\"South Africa\",\"United Kingdom\",\"France\"],\"name\":\"\",\"z\":[2950,550,130,900,270,250,100,200,90,80,600,400],\"type\":\"choropleth\"}],\"name\":\"1960\"},{\"data\":[{\"coloraxis\":\"coloraxis\",\"geo\":\"geo\",\"hovertemplate\":\"\\u003cb\\u003e%{hovertext}\\u003c\\u002fb\\u003e\\u003cbr\\u003e\\u003cbr\\u003eYear=1970\\u003cbr\\u003eCountry=%{location}\\u003cbr\\u003eCO₂ (Mt)=%{z}\\u003cextra\\u003e\\u003c\\u002fextra\\u003e\",\"hovertext\":[\"United States\",\"China\",\"India\",\"Russia\",\"Japan\",\"Germany\",\"Brazil\",\"Canada\",\"Australia\",\"South Africa\",\"United Kingdom\",\"France\"],\"locationmode\":\"country names\",\"locations\":[\"United States\",\"China\",\"India\",\"Russia\",\"Japan\",\"Germany\",\"Brazil\",\"Canada\",\"Australia\",\"South Africa\",\"United Kingdom\",\"France\"],\"name\":\"\",\"z\":[4300,900,180,1300,540,350,140,310,150,140,650,450],\"type\":\"choropleth\"}],\"name\":\"1970\"},{\"data\":[{\"coloraxis\":\"coloraxis\",\"geo\":\"geo\",\"hovertemplate\":\"\\u003cb\\u003e%{hovertext}\\u003c\\u002fb\\u003e\\u003cbr\\u003e\\u003cbr\\u003eYear=1980\\u003cbr\\u003eCountry=%{location}\\u003cbr\\u003eCO₂ (Mt)=%{z}\\u003cextra\\u003e\\u003c\\u002fextra\\u003e\",\"hovertext\":[\"United States\",\"China\",\"India\",\"Russia\",\"Japan\",\"Germany\",\"Brazil\",\"Canada\",\"Australia\",\"South Africa\",\"United Kingdom\",\"France\"],\"locationmode\":\"country names\",\"locations\":[\"United States\",\"China\",\"India\",\"Russia\",\"Japan\",\"Germany\",\"Brazil\",\"Canada\",\"Australia\",\"South Africa\",\"United Kingdom\",\"France\"],\"name\":\"\",\"z\":[4900,1800,320,2100,1100,470,230,420,240,180,710,480],\"type\":\"choropleth\"}],\"name\":\"1980\"},{\"data\":[{\"coloraxis\":\"coloraxis\",\"geo\":\"geo\",\"hovertemplate\":\"\\u003cb\\u003e%{hovertext}\\u003c\\u002fb\\u003e\\u003cbr\\u003e\\u003cbr\\u003eYear=1990\\u003cbr\\u003eCountry=%{location}\\u003cbr\\u003eCO₂ (Mt)=%{z}\\u003cextra\\u003e\\u003c\\u002fextra\\u003e\",\"hovertext\":[\"United States\",\"China\",\"India\",\"Russia\",\"Japan\",\"Germany\",\"Brazil\",\"Canada\",\"Australia\",\"South Africa\",\"United Kingdom\",\"France\"],\"locationmode\":\"country names\",\"locations\":[\"United States\",\"China\",\"India\",\"Russia\",\"Japan\",\"Germany\",\"Brazil\",\"Canada\",\"Australia\",\"South Africa\",\"United Kingdom\",\"France\"],\"name\":\"\",\"z\":[5100,2400,580,2400,1150,980,300,460,270,300,600,410],\"type\":\"choropleth\"}],\"name\":\"1990\"},{\"data\":[{\"coloraxis\":\"coloraxis\",\"geo\":\"geo\",\"hovertemplate\":\"\\u003cb\\u003e%{hovertext}\\u003c\\u002fb\\u003e\\u003cbr\\u003e\\u003cbr\\u003eYear=2000\\u003cbr\\u003eCountry=%{location}\\u003cbr\\u003eCO₂ (Mt)=%{z}\\u003cextra\\u003e\\u003c\\u002fextra\\u003e\",\"hovertext\":[\"United States\",\"China\",\"India\",\"Russia\",\"Japan\",\"Germany\",\"Brazil\",\"Canada\",\"Australia\",\"South Africa\",\"United Kingdom\",\"France\"],\"locationmode\":\"country names\",\"locations\":[\"United States\",\"China\",\"India\",\"Russia\",\"Japan\",\"Germany\",\"Brazil\",\"Canada\",\"Australia\",\"South Africa\",\"United Kingdom\",\"France\"],\"name\":\"\",\"z\":[5900,3300,970,1600,1250,830,380,590,360,340,550,390],\"type\":\"choropleth\"}],\"name\":\"2000\"},{\"data\":[{\"coloraxis\":\"coloraxis\",\"geo\":\"geo\",\"hovertemplate\":\"\\u003cb\\u003e%{hovertext}\\u003c\\u002fb\\u003e\\u003cbr\\u003e\\u003cbr\\u003eYear=2010\\u003cbr\\u003eCountry=%{location}\\u003cbr\\u003eCO₂ (Mt)=%{z}\\u003cextra\\u003e\\u003c\\u002fextra\\u003e\",\"hovertext\":[\"United States\",\"China\",\"India\",\"Russia\",\"Japan\",\"Germany\",\"Brazil\",\"Canada\",\"Australia\",\"South Africa\",\"United Kingdom\",\"France\"],\"locationmode\":\"country names\",\"locations\":[\"United States\",\"China\",\"India\",\"Russia\",\"Japan\",\"Germany\",\"Brazil\",\"Canada\",\"Australia\",\"South Africa\",\"United Kingdom\",\"France\"],\"name\":\"\",\"z\":[5600,7800,1900,1700,1200,820,460,560,410,390,500,380],\"type\":\"choropleth\"}],\"name\":\"2010\"},{\"data\":[{\"coloraxis\":\"coloraxis\",\"geo\":\"geo\",\"hovertemplate\":\"\\u003cb\\u003e%{hovertext}\\u003c\\u002fb\\u003e\\u003cbr\\u003e\\u003cbr\\u003eYear=2020\\u003cbr\\u003eCountry=%{location}\\u003cbr\\u003eCO₂ (Mt)=%{z}\\u003cextra\\u003e\\u003c\\u002fextra\\u003e\",\"hovertext\":[\"United States\",\"China\",\"India\",\"Russia\",\"Japan\",\"Germany\",\"Brazil\",\"Canada\",\"Australia\",\"South Africa\",\"United Kingdom\",\"France\"],\"locationmode\":\"country names\",\"locations\":[\"United States\",\"China\",\"India\",\"Russia\",\"Japan\",\"Germany\",\"Brazil\",\"Canada\",\"Australia\",\"South Africa\",\"United Kingdom\",\"France\"],\"name\":\"\",\"z\":[4800,10100,2600,1600,1100,650,500,540,390,440,390,320],\"type\":\"choropleth\"}],\"name\":\"2020\"},{\"data\":[{\"coloraxis\":\"coloraxis\",\"geo\":\"geo\",\"hovertemplate\":\"\\u003cb\\u003e%{hovertext}\\u003c\\u002fb\\u003e\\u003cbr\\u003e\\u003cbr\\u003eYear=2023\\u003cbr\\u003eCountry=%{location}\\u003cbr\\u003eCO₂ (Mt)=%{z}\\u003cextra\\u003e\\u003c\\u002fextra\\u003e\",\"hovertext\":[\"United States\",\"China\",\"India\",\"Russia\",\"Japan\",\"Germany\",\"Brazil\",\"Canada\",\"Australia\",\"South Africa\",\"United Kingdom\",\"France\"],\"locationmode\":\"country names\",\"locations\":[\"United States\",\"China\",\"India\",\"Russia\",\"Japan\",\"Germany\",\"Brazil\",\"Canada\",\"Australia\",\"South Africa\",\"United Kingdom\",\"France\"],\"name\":\"\",\"z\":[4900,10700,2700,1700,1100,630,520,550,400,430,380,310],\"type\":\"choropleth\"}],\"name\":\"2023\"}]);\n",
              "                        }).then(function(){\n",
              "                            \n",
              "var gd = document.getElementById('61ba7098-5663-45e5-ae3d-b057e1baa879');\n",
              "var x = new MutationObserver(function (mutations, observer) {{\n",
              "        var display = window.getComputedStyle(gd).display;\n",
              "        if (!display || display === 'none') {{\n",
              "            console.log([gd, 'removed!']);\n",
              "            Plotly.purge(gd);\n",
              "            observer.disconnect();\n",
              "        }}\n",
              "}});\n",
              "\n",
              "// Listen for the removal of the full notebook cells\n",
              "var notebookContainer = gd.closest('#notebook-container');\n",
              "if (notebookContainer) {{\n",
              "    x.observe(notebookContainer, {childList: true});\n",
              "}}\n",
              "\n",
              "// Listen for the clearing of the current output cell\n",
              "var outputEl = gd.closest('.output');\n",
              "if (outputEl) {{\n",
              "    x.observe(outputEl, {childList: true});\n",
              "}}\n",
              "\n",
              "                        })                };                            </script>        </div>\n",
              "</body>\n",
              "</html>"
            ]
          },
          "metadata": {}
        }
      ],
      "source": [
        "fig_map = px.choropleth(\n",
        "    df,\n",
        "    locations=\"Country\",\n",
        "    locationmode=\"country names\",\n",
        "    color=\"CO2_Mt\",\n",
        "    hover_name=\"Country\",\n",
        "    animation_frame=\"Year\",\n",
        "    color_continuous_scale=\"Reds\",\n",
        "    range_color=(0, df[\"CO2_Mt\"].max() * 1.05),\n",
        "    labels={\"CO2_Mt\": \"CO₂ (Mt)\"},\n",
        "    title=\"Global CO₂ Emissions (Illustrative) — Animated 1960–2023\"\n",
        ")\n",
        "fig_map.show()\n"
      ],
      "id": "SMZAb6yx53s4"
    },
    {
      "cell_type": "code",
      "execution_count": null,
      "metadata": {
        "id": "KZaSbRcl53s4"
      },
      "outputs": [],
      "source": [
        "def top_emitters_per_year(dataframe, top_n=8):\n",
        "    out = []\n",
        "    for y in sorted(dataframe[\"Year\"].unique()):\n",
        "        chunk = dataframe[dataframe[\"Year\"] == y].nlargest(top_n, \"CO2_Mt\").copy()\n",
        "        out.append(chunk)\n",
        "    return pd.concat(out, ignore_index=True)\n",
        "\n",
        "top_df = top_emitters_per_year(df, top_n=8)\n"
      ],
      "id": "KZaSbRcl53s4"
    },
    {
      "cell_type": "code",
      "execution_count": null,
      "metadata": {
        "id": "ePBbZtbd53s5"
      },
      "outputs": [],
      "source": [
        "fig_bars = px.bar(\n",
        "    top_df,\n",
        "    x=\"CO2_Mt\",\n",
        "    y=\"Country\",\n",
        "    color=\"Country\",\n",
        "    orientation=\"h\",\n",
        "    animation_frame=\"Year\",\n",
        "    range_x=(0, df[\"CO2_Mt\"].max() * 1.1),\n",
        "    labels={\"CO2_Mt\": \"CO₂ (Mt)\"},\n",
        "    title=\"Top CO₂ Emitters by Year (Illustrative) — Animated\"\n",
        ")\n",
        "fig_bars.show()\n"
      ],
      "id": "ePBbZtbd53s5"
    }
  ],
  "metadata": {
    "kernelspec": {
      "display_name": "Python 3",
      "language": "python",
      "name": "python3"
    },
    "language_info": {
      "name": "python",
      "pygments_lexer": "ipython3"
    },
    "colab": {
      "provenance": [],
      "include_colab_link": true
    }
  },
  "nbformat": 4,
  "nbformat_minor": 5
}